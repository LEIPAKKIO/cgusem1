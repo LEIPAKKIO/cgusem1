{
  "nbformat": 4,
  "nbformat_minor": 0,
  "metadata": {
    "colab": {
      "provenance": []
    },
    "kernelspec": {
      "name": "python3",
      "display_name": "Python 3"
    },
    "language_info": {
      "name": "python"
    }
  },
  "cells": [
    {
      "cell_type": "code",
      "execution_count": 3,
      "metadata": {
        "colab": {
          "base_uri": "https://localhost:8080/"
        },
        "id": "2Cbx38FQGoO2",
        "outputId": "d16b3d38-0307-4f47-aba2-0b842ef422cc"
      },
      "outputs": [
        {
          "output_type": "stream",
          "name": "stdout",
          "text": [
            "x1=1\n",
            "y1=1\n",
            "x2=1\n",
            "y2=1\n",
            "D=: 0.0\n"
          ]
        }
      ],
      "source": [
        "a = int(input('x1='))\n",
        "b = int(input('y1='))\n",
        "c = int(input('x2='))\n",
        "d = int(input('y2='))\n",
        "z=((a-c)**2+(b-d)**2)**0.5\n",
        "print(\"D=:\",z)"
      ]
    },
    {
      "cell_type": "code",
      "source": [
        "a =int(input('''Height(cm):\n",
        "'''))\n",
        "b =int(input('''Weight(kg)):\n",
        "'''))\n",
        "b/=((a/100)**2)\n",
        "print('你的BMI:',b)"
      ],
      "metadata": {
        "colab": {
          "base_uri": "https://localhost:8080/"
        },
        "id": "bggGrJ8XHlTb",
        "outputId": "1306f8f3-85d5-42b4-f6e8-29f64dc9cc23"
      },
      "execution_count": 5,
      "outputs": [
        {
          "output_type": "stream",
          "name": "stdout",
          "text": [
            "Height(cm):\n",
            "179\n",
            "Weight(kg)):\n",
            "77\n",
            "你的BMI: 24.031709372366656\n"
          ]
        }
      ]
    }
  ]
}