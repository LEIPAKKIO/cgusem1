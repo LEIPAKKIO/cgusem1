{
  "nbformat": 4,
  "nbformat_minor": 0,
  "metadata": {
    "colab": {
      "provenance": []
    },
    "kernelspec": {
      "name": "python3",
      "display_name": "Python 3"
    },
    "language_info": {
      "name": "python"
    }
  },
  "cells": [
    {
      "cell_type": "code",
      "execution_count": null,
      "metadata": {
        "id": "SIwLbwBkwRnY"
      },
      "outputs": [],
      "source": [
        "a =int(input('''身高(cm):\n",
        "'''))\n",
        "b =int(input('''體重(kg)):\n",
        "'''))\n",
        "b/=((a/100)**2)\n",
        "print('你的BMI:',b)\n",
        "b = input('BMI:')\n",
        "if float(b) < 18.5 :\n",
        "  print('體位:過輕')\n",
        "elif float(b) < 24 :\n",
        "  print('體位:適中')\n",
        "elif float(b) < 27 :\n",
        "  print('體位:過重')\n",
        "else :\n",
        "  print('體位:肥胖')\n"
      ]
    },
    {
      "cell_type": "code",
      "source": [
        "a = input('數字1:')\n",
        "b = input('數字2:')\n",
        "c = input('運算符號:')\n",
        "\n",
        "if c == '+' :\n",
        "  print(int(a)+int(b))\n",
        "elif c == '-' :\n",
        "  print(int(a)-int(b))\n",
        "elif c == '*' :\n",
        "  print(int(a)*int(b))\n",
        "elif c == '/' :\n",
        "  print(int(a)/\n",
        "        int(b))\n"
      ],
      "metadata": {
        "colab": {
          "base_uri": "https://localhost:8080/"
        },
        "id": "S-8WN86r1K0c",
        "outputId": "0edba7f8-c174-4966-ddf2-1d6147a5d9e8"
      },
      "execution_count": 49,
      "outputs": [
        {
          "output_type": "stream",
          "name": "stdout",
          "text": [
            "數字1:1\n",
            "數字2:3\n",
            "運算符號:/\n",
            "0.3333333333333333\n"
          ]
        }
      ]
    }
  ]
}